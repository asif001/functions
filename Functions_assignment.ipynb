{
  "nbformat": 4,
  "nbformat_minor": 0,
  "metadata": {
    "colab": {
      "provenance": []
    },
    "kernelspec": {
      "name": "python3",
      "display_name": "Python 3"
    },
    "language_info": {
      "name": "python"
    }
  },
  "cells": [
    {
      "cell_type": "markdown",
      "source": [
        "**(1) What is the difference between a function and a method in Python?**\n",
        "\n",
        "Ans:-\n",
        "Functions are nothing but a block of code which performs a specific task and can be called again and again as per requirement in the code.\n",
        "\n",
        "A Method  is a function that is defined inside a class and is bound to an object.\n"
      ],
      "metadata": {
        "id": "l0woGwyZrlUi"
      }
    },
    {
      "cell_type": "markdown",
      "source": [
        "**(2)Explain the concept of function arguments and parameters in Python?**\n",
        "\n",
        "Ans:-\n",
        "function arguments are the values you pass to a function when you call it. They provide the data the function needs to work with.\n",
        "\n",
        "Parameters are the variables that are defined inside the parentheses of a function. They act as placeholders for the values that you pass to the function when calling it.\n"
      ],
      "metadata": {
        "id": "Kij-RB5g0NMa"
      }
    },
    {
      "cell_type": "markdown",
      "source": [
        "**(3)What are the different ways to define and call a function in Python?**\n",
        "\n",
        "Ans:- There are many ways to define and call a function in python\n",
        "\n",
        "1 Basic function ( no parameters)\n",
        "\n",
        "2 function with parameters\n",
        "\n",
        "3 function with default parameters\n",
        "\n",
        "4 function with keyword arguments\n",
        "\n",
        "5 lambda function\n"
      ],
      "metadata": {
        "id": "o2Kp7Dmb16eJ"
      }
    },
    {
      "cell_type": "markdown",
      "source": [
        "**(4)What is the purpose of the `return` statement in a Python function?**\n",
        "\n",
        "Ans:- The purpose of the return statement in Python is used inside a function to send a value back to the place where the function was called and to end the execution of a function immediately.\n"
      ],
      "metadata": {
        "id": "m8sc7wkE3id5"
      }
    },
    {
      "cell_type": "markdown",
      "source": [
        "**(5)What are iterators in Python and how do they differ from iterables?**\n",
        "\n",
        "Ans:-  An iterator is an object that represents a stream of data, and It remembers its current position and gives the next value when asked.\n",
        "\n",
        "They are differ from iterables because An iterable is any Python object that can return its elements one at a time.\n"
      ],
      "metadata": {
        "id": "GqVtP8Qp6JOw"
      }
    },
    {
      "cell_type": "markdown",
      "source": [
        "**(6)Explain the concept of generators in Python and how they are defined?**\n",
        "\n",
        "Ans:- A generator in Python is a special kind of iterator and They  produce values one at a time, only when needed , which makes them memory-efficient.\n",
        "\n",
        "Defined like a normal function but uses the yield keyword instead of return.\n",
        "\n"
      ],
      "metadata": {
        "id": "iAb_P_BD7pe4"
      }
    },
    {
      "cell_type": "markdown",
      "source": [
        "**(7)What are the advantages of using generators over regular functions?**\n",
        "\n",
        "Ans:- Advantages:\n",
        "\n",
        "1) Memory Efficiency\n",
        "2) Lazy Evaluation\n",
        "3) Infinite Sequences\n",
        "4) Pipeline Processing\n",
        "5) Cleaner Code"
      ],
      "metadata": {
        "id": "MqaFFxv58zNX"
      }
    },
    {
      "cell_type": "markdown",
      "source": [],
      "metadata": {
        "id": "OGRYa1279dX2"
      }
    },
    {
      "cell_type": "markdown",
      "source": [
        "**(8)What is a lambda function in Python and when is it typically used?**\n",
        "\n",
        "Ans:- A lambda function in python is a concise way to create anonymous functions , also known as lambda expression.\n",
        "\n",
        "lambda functions are often used for short-term operations.\n",
        "\n",
        "\n"
      ],
      "metadata": {
        "id": "SnmviJr69guu"
      }
    },
    {
      "cell_type": "markdown",
      "source": [
        "**(9)Explain the purpose and usage of the `map()` function in Python.\n",
        "\n",
        "Ans:The 'map()' function is a built-in function in Python that applies a given function to each item of an iterable.\n"
      ],
      "metadata": {
        "id": "vgNUTIbH-0WX"
      }
    },
    {
      "cell_type": "markdown",
      "source": [
        "**(10)What is the difference between `map()`, `reduce()`, and `filter()` functions in Python?**\n",
        "\n",
        "Ans:-\n",
        "1. 'map()' function Transforms each element.\n",
        "2. 'filter()' funcion Selects elements that meet a condition.\n",
        "3. 'reduce()' Reduces all elements into one value.\n",
        "      "
      ],
      "metadata": {
        "id": "X5QDVcj__yeW"
      }
    },
    {
      "cell_type": "markdown",
      "source": [
        "**(11)Using pen & Paper write the internal mechanism for sum operation using reduce function on this given list:[47,11,42,13];**\n",
        "\n",
        "Ans:-\n"
      ],
      "metadata": {
        "id": "bcc-ifsGBQem"
      }
    },
    {
      "cell_type": "code",
      "source": [
        "## PRACTICAL QUESTIONS\n",
        "## (1) Write a Python function that takes a list of numbers as input and returns the sum of all even numbers in\n",
        "the list.\n",
        "\n",
        "def sum_even_numbers(10,15,20,25,30):\n",
        "    \"\"\"\n",
        "\n",
        "\n",
        "\n",
        "\n",
        "\n"
      ],
      "metadata": {
        "colab": {
          "base_uri": "https://localhost:8080/",
          "height": 106
        },
        "id": "pcfg9ungE6_W",
        "outputId": "3593d0ac-6919-4430-fec8-4a1cdba5b057"
      },
      "execution_count": 13,
      "outputs": [
        {
          "output_type": "error",
          "ename": "IndentationError",
          "evalue": "unindent does not match any outer indentation level (<tokenize>, line 18)",
          "traceback": [
            "\u001b[0;36m  File \u001b[0;32m\"<tokenize>\"\u001b[0;36m, line \u001b[0;32m18\u001b[0m\n\u001b[0;31m    return sum(even_nums)\u001b[0m\n\u001b[0m    ^\u001b[0m\n\u001b[0;31mIndentationError\u001b[0m\u001b[0;31m:\u001b[0m unindent does not match any outer indentation level\n"
          ]
        }
      ]
    },
    {
      "cell_type": "code",
      "source": [
        "## (2) Create a Python function that accepts a string and returns the reverse of that string.\n",
        "\n",
        "\n"
      ],
      "metadata": {
        "colab": {
          "base_uri": "https://localhost:8080/"
        },
        "id": "HeyzIDW-GpIf",
        "outputId": "b850b37e-3f1f-4cf1-d019-3f099660d7c7"
      },
      "execution_count": null,
      "outputs": [
        {
          "output_type": "stream",
          "name": "stdout",
          "text": [
            "Reversed string: olleh\n"
          ]
        }
      ]
    },
    {
      "cell_type": "code",
      "source": [
        "## (3) Implement a Python function that takes a list of integers and returns a new list containing the squares of each number.\n",
        "\n",
        "def square_list(numbers):\n",
        "    squares = []\n",
        "    for num in numbers:\n",
        "        squares.append(num ** 2)\n",
        "    return squares\n",
        "\n",
        "my_list = [2, 3, 4, 5]\n",
        "result = square_list(my_list)\n",
        "print(\"Squares of numbers:\", result)\n",
        "\n"
      ],
      "metadata": {
        "colab": {
          "base_uri": "https://localhost:8080/"
        },
        "id": "iJc6faXrG8Dt",
        "outputId": "565ae6cc-fe9f-47f6-da5a-ef6f4f3d9fc9"
      },
      "execution_count": null,
      "outputs": [
        {
          "output_type": "stream",
          "name": "stdout",
          "text": [
            "Squares of numbers: [4, 9, 16, 25]\n"
          ]
        }
      ]
    },
    {
      "cell_type": "code",
      "source": [
        "## (4) Write a Python function that checks if a given number is prime or not from 1 to 200.\n",
        "\n",
        "def is_prime(n):\n",
        "    if n <= 1:\n",
        "        return False\n",
        "    for i in range(2, int(n**0.5) + 1):  # check divisors up to sqrt(n)\n",
        "        if n % i == 0:\n",
        "            return False\n",
        "    return True\n",
        "\n",
        "# Example usage: check primes from 1 to 200\n",
        "for num in range(1, 201):\n",
        "    if is_prime(num):\n",
        "        print(num, \"is a prime number\")\n",
        "\n"
      ],
      "metadata": {
        "colab": {
          "base_uri": "https://localhost:8080/"
        },
        "id": "8A1jwi7KHuPO",
        "outputId": "32cfefcc-e6db-4246-988e-27c87b51e3ed"
      },
      "execution_count": null,
      "outputs": [
        {
          "output_type": "stream",
          "name": "stdout",
          "text": [
            "2 is a prime number\n",
            "3 is a prime number\n",
            "5 is a prime number\n",
            "7 is a prime number\n",
            "11 is a prime number\n",
            "13 is a prime number\n",
            "17 is a prime number\n",
            "19 is a prime number\n",
            "23 is a prime number\n",
            "29 is a prime number\n",
            "31 is a prime number\n",
            "37 is a prime number\n",
            "41 is a prime number\n",
            "43 is a prime number\n",
            "47 is a prime number\n",
            "53 is a prime number\n",
            "59 is a prime number\n",
            "61 is a prime number\n",
            "67 is a prime number\n",
            "71 is a prime number\n",
            "73 is a prime number\n",
            "79 is a prime number\n",
            "83 is a prime number\n",
            "89 is a prime number\n",
            "97 is a prime number\n",
            "101 is a prime number\n",
            "103 is a prime number\n",
            "107 is a prime number\n",
            "109 is a prime number\n",
            "113 is a prime number\n",
            "127 is a prime number\n",
            "131 is a prime number\n",
            "137 is a prime number\n",
            "139 is a prime number\n",
            "149 is a prime number\n",
            "151 is a prime number\n",
            "157 is a prime number\n",
            "163 is a prime number\n",
            "167 is a prime number\n",
            "173 is a prime number\n",
            "179 is a prime number\n",
            "181 is a prime number\n",
            "191 is a prime number\n",
            "193 is a prime number\n",
            "197 is a prime number\n",
            "199 is a prime number\n"
          ]
        }
      ]
    },
    {
      "cell_type": "code",
      "source": [
        "## (5) Create an iterator class in Python that generates the Fibonacci sequence up to a specified number of terms.\n",
        "\n",
        "class Fibonacci:\n",
        "    def __init__(self, n):\n",
        "        self.n = n\n",
        "        self.i, self.a, self.b = 0, 0, 1\n",
        "\n",
        "    def __iter__(self):\n",
        "        return self\n",
        "\n",
        "    def __next__(self):\n",
        "        if self.i >= self.n:\n",
        "            raise StopIteration\n",
        "        self.i += 1\n",
        "        self.a, self.b = self.b, self.a + self.b\n",
        "        return self.a - self.b + self.b  ## returns correct Fibonacci number\n",
        "\n",
        "for num in Fibonacci(10):\n",
        "    print(num, end=\" \")\n",
        "\n"
      ],
      "metadata": {
        "colab": {
          "base_uri": "https://localhost:8080/"
        },
        "id": "dGHQf3EHIh4f",
        "outputId": "f6ace268-d4e1-4035-91c5-fadd1d54c9d1"
      },
      "execution_count": null,
      "outputs": [
        {
          "output_type": "stream",
          "name": "stdout",
          "text": [
            "1 1 2 3 5 8 13 21 34 55 "
          ]
        }
      ]
    },
    {
      "cell_type": "code",
      "source": [
        "##(6) Write a generator function in Python that yields the powers of 2 up to a given exponent.\n",
        "\n",
        "def powers_of_two(n):\n",
        "    for i in range(n + 1):  # from 0 to n\n",
        "        yield 2 ** i\n",
        "\n",
        "for value in powers_of_two(5):\n",
        "    print(value, end=\" \")\n"
      ],
      "metadata": {
        "colab": {
          "base_uri": "https://localhost:8080/"
        },
        "id": "2eHw4eGfJkqe",
        "outputId": "ce97018f-6183-47e9-90f0-74b2f63ab806"
      },
      "execution_count": null,
      "outputs": [
        {
          "output_type": "stream",
          "name": "stdout",
          "text": [
            "1 2 4 8 16 32 "
          ]
        }
      ]
    },
    {
      "cell_type": "code",
      "source": [
        "## (7) Implement a generator function that reads a file line by line and yields each line as a string.\n",
        "\n",
        "\n",
        "\n"
      ],
      "metadata": {
        "id": "XHm0nvWOKKD2"
      },
      "execution_count": 17,
      "outputs": []
    },
    {
      "cell_type": "code",
      "source": [
        "## (8) Use a lambda function in Python to sort a list of tuples based on the second element of each tuple.\n",
        "\n",
        "#  tuples\n",
        "data = [(1, 5), (3, 2), (4, 8), (2, 1)]\n",
        "\n",
        "# Sort based on the second element of each tuple\n",
        "sorted_data = sorted(data, key=lambda x: x[1])\n",
        "\n",
        "print(sorted_data)\n",
        "\n",
        "\n"
      ],
      "metadata": {
        "colab": {
          "base_uri": "https://localhost:8080/"
        },
        "id": "tuei4tzLNeol",
        "outputId": "314b08c0-ab7a-41d5-f976-5c7354c2f44e"
      },
      "execution_count": null,
      "outputs": [
        {
          "output_type": "stream",
          "name": "stdout",
          "text": [
            "[(2, 1), (3, 2), (1, 5), (4, 8)]\n"
          ]
        }
      ]
    },
    {
      "cell_type": "code",
      "source": [
        "## (9) Write a Python program that uses `map()` to convert a list of temperatures from Celsius to Fahrenheit\n",
        "\n",
        "def c_to_f(celsius):\n",
        "    return (celsius * 9/5) + 32\n",
        "\n",
        "# List of temperatures in Celsius\n",
        "celsius_temps = [0, 20, 37, 100]\n",
        "\n",
        "# Use map() to convert each temperature\n",
        "fahrenheit_temps = list(map(c_to_f, celsius_temps))\n",
        "\n",
        "print(\"Temperatures in Fahrenheit:\", fahrenheit_temps)\n"
      ],
      "metadata": {
        "colab": {
          "base_uri": "https://localhost:8080/"
        },
        "id": "lFiRPjDANzru",
        "outputId": "394c8827-baa2-44a3-cdae-b24d95acd8fc"
      },
      "execution_count": null,
      "outputs": [
        {
          "output_type": "stream",
          "name": "stdout",
          "text": [
            "Temperatures in Fahrenheit: [32.0, 68.0, 98.6, 212.0]\n"
          ]
        }
      ]
    },
    {
      "cell_type": "code",
      "source": [
        "## (10) Create a Python program that uses `filter()` to remove all the vowels from a given string.\n",
        "\n",
        "def not_vowel(char):\n",
        "    return char.lower() not in 'aeiou'\n",
        "\n",
        "# Input string\n",
        "text = \"Hello, World!\"\n",
        "\n",
        "# Use filter() to remove vowels\n",
        "filtered_text = ''.join(filter(not_vowel, text))\n",
        "\n",
        "print(\"String without vowels:\", filtered_text)\n"
      ],
      "metadata": {
        "colab": {
          "base_uri": "https://localhost:8080/"
        },
        "id": "XGH-AlhHOFK0",
        "outputId": "33128931-8ac1-43eb-a314-0092b643cb84"
      },
      "execution_count": null,
      "outputs": [
        {
          "output_type": "stream",
          "name": "stdout",
          "text": [
            "String without vowels: Hll, Wrld!\n"
          ]
        }
      ]
    },
    {
      "cell_type": "code",
      "source": [
        "## (11) Imagine an accounting routine used in a book shop. It works on a list with sublists, which look like this:\n",
        "\n"
      ],
      "metadata": {
        "id": "-Lp_7ogBOTUE"
      },
      "execution_count": null,
      "outputs": []
    }
  ]
}